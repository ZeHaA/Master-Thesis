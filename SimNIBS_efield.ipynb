{
 "cells": [
  {
   "cell_type": "markdown",
   "metadata": {},
   "source": [
    "# SimNIBS for tDCS"
   ]
  },
  {
   "cell_type": "code",
   "execution_count": 1,
   "metadata": {},
   "outputs": [],
   "source": [
    "import simnibs\n",
    "import numpy as np\n",
    "import json"
   ]
  },
  {
   "cell_type": "code",
   "execution_count": null,
   "metadata": {},
   "outputs": [],
   "source": [
    "# Initalize a session\n",
    "s = simnibs.sim_struct.SESSION()\n",
    "\n",
    "# Configure session\n",
    "\n",
    "# Name of head mesh\n",
    "s.fnamehead = '...simnibs_ernie\\simnibs_examples\\ernie\\ernie.msh'\n",
    "# Output folder\n",
    "s.pathfem = ''\n",
    "# set output \n",
    "s.fields = 'veEjJ'\n",
    "# Turn off gmsh viewer\n",
    "s.open_in_gmsh = False\n",
    "\n",
    "# map the fields to the middle gray matter surface (needed for ROI analysis using atlas)\n",
    "s.map_to_surf = True"
   ]
  },
  {
   "cell_type": "code",
   "execution_count": 4,
   "metadata": {},
   "outputs": [],
   "source": [
    "# Initialize a tDCS simulation\n",
    "tdcslist = s.add_tdcslist()\n",
    "# Set currents (A)\n",
    "tdcslist.currents = [1e-3, 1e-3, -1e-3, -1e-3] # 1mA\n",
    "\n",
    "# Initialize the anode1\n",
    "anode1 = tdcslist.add_electrode()\n",
    "# Connect electrode to first channel\n",
    "anode1.channelnr = 1\n",
    "# Electrode dimension (mm)\n",
    "anode1.dimensions = [8, 8]\n",
    "# circular shape\n",
    "anode1.shape = 'ellipse'\n",
    "# 5mm thickness of eeg gel and 2 mm of eletrode\n",
    "anode1.thickness = [5, 2]\n",
    "# Electrode Position\n",
    "anode1.centre = 'F3'\n",
    "\n",
    "# Initialize the anode2\n",
    "anode2 = tdcslist.add_electrode()\n",
    "anode2.channelnr = 2\n",
    "anode2.dimensions = [8, 8]\n",
    "anode2.shape = 'ellipse'\n",
    "anode2.thickness = [5, 2]\n",
    "anode2.centre = 'F4'\n",
    "\n",
    "# Initialize the cathode1\n",
    "cathode1 = tdcslist.add_electrode()\n",
    "cathode1.channelnr = 3\n",
    "cathode1.dimensions = [8, 8]\n",
    "cathode1.shape = 'ellipse'\n",
    "cathode1.thickness = [5, 2]\n",
    "cathode1.centre = [-69.99, -44.69, -48.49]\n",
    "\n",
    "# Initialize the cathode2\n",
    "cathode2 = tdcslist.add_electrode()\n",
    "cathode2.channelnr = 4\n",
    "cathode2.dimensions = [8, 8]\n",
    "cathode2.shape = 'ellipse'\n",
    "cathode2.thickness = [5, 2]\n",
    "cathode2.centre = [61.64, -54.66, -44.16]"
   ]
  },
  {
   "cell_type": "code",
   "execution_count": 7,
   "metadata": {},
   "outputs": [],
   "source": [
    "%%time\n",
    "# run simulation\n",
    "simnibs.run_simnibs(s)"
   ]
  },
  {
   "cell_type": "markdown",
   "metadata": {},
   "source": [
    "### ROI Analysis"
   ]
  },
  {
   "cell_type": "markdown",
   "metadata": {},
   "source": [
    "#### Using brain atlas\n",
    "calculate the mean electric field in a gray matter ROI defined using an atlas"
   ]
  },
  {
   "cell_type": "code",
   "execution_count": null,
   "metadata": {},
   "outputs": [],
   "source": [
    "# Read simulation result file\n",
    "# use the middle cortical surfaces\n",
    "gm_surf = simnibs.read_msh('')\n",
    "\n",
    "# Load atlas --> DK40\n",
    "atlas = simnibs.subject_atlas('DK40', '...simnibs_ernie\\simnibs_examples\\ernie\\m2m_ernie')\n",
    "\n",
    "EF_result = {}\n",
    "for areas, values in atlas.items():\n",
    "    # define ROI \n",
    "    if 'unknown' in areas or '???' in areas:\n",
    "        continue\n",
    "    roi = atlas[areas]\n",
    "    \n",
    "    # calculate nodes areas in ROI for averaging\n",
    "    node_areas = gm_surf.nodes_areas()\n",
    "    if not node_areas[roi].any():\n",
    "        print(areas, node_areas[roi])\n",
    "        EF_result[areas] = 0\n",
    "        continue\n",
    "\n",
    "    # Calculate mean field\n",
    "    # check all available field with gm_surf.field\n",
    "    field_name = 'E_normal'\n",
    "    mean_normE = np.average(gm_surf.field[field_name][roi], weights=node_areas[roi])\n",
    "    EF_result[areas] = mean_normE"
   ]
  },
  {
   "cell_type": "markdown",
   "metadata": {},
   "source": [
    "### Write result into file"
   ]
  },
  {
   "cell_type": "code",
   "execution_count": 12,
   "metadata": {},
   "outputs": [],
   "source": [
    "result = '../result.json'\n",
    "with open(result, 'w') as f: \n",
    "    json.dump(EF_result, f)"
   ]
  }
 ],
 "metadata": {
  "kernelspec": {
   "display_name": "Python 3.7.13 ('simnibs_env')",
   "language": "python",
   "name": "python3"
  },
  "language_info": {
   "codemirror_mode": {
    "name": "ipython",
    "version": 3
   },
   "file_extension": ".py",
   "mimetype": "text/x-python",
   "name": "python",
   "nbconvert_exporter": "python",
   "pygments_lexer": "ipython3",
   "version": "3.7.13"
  },
  "orig_nbformat": 4,
  "vscode": {
   "interpreter": {
    "hash": "ec76d53146c69c066a3586d0007959ff6d895a7400ad7c22ff614a6eb18b5a01"
   }
  }
 },
 "nbformat": 4,
 "nbformat_minor": 2
}
