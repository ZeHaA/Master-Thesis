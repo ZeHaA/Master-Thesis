{
 "cells": [
  {
   "cell_type": "markdown",
   "metadata": {},
   "source": [
    "### SJHR3D Model with Stimulus"
   ]
  },
  {
   "cell_type": "code",
   "execution_count": 1,
   "metadata": {},
   "outputs": [],
   "source": [
    "# load library\n",
    "import numpy as np\n",
    "import scipy\n",
    "import os\n",
    "import json\n",
    "import matplotlib.pyplot as plt\n",
    "from tvb.simulator.lab import *\n",
    "from tvb.basic.readers import FileReader"
   ]
  },
  {
   "cell_type": "code",
   "execution_count": null,
   "metadata": {},
   "outputs": [],
   "source": [
    "# normalized weight\n",
    "mat = scipy.io.loadmat('...SC.mat')\n",
    "SC = mat['SC_cap_agg_bwflav2']\n",
    "SCnorm = np.log(SC+1)/np.log(SC+1).sum(axis=0).max()\n",
    "\n",
    "matfile = '...weigth.txt'\n",
    "np.savetxt(matfile, SCnorm)"
   ]
  },
  {
   "cell_type": "code",
   "execution_count": 3,
   "metadata": {},
   "outputs": [],
   "source": [
    "# path to files\n",
    "\n",
    "# insert the path to where all subjects connectivities are stored\n",
    "mypath = \"\"\n",
    "# specify which subject to load (folder name of each subject)\n",
    "subject = \"\"\n",
    "# save path\n",
    "save_path = \"\"\n",
    "\n",
    "# load files\n",
    "\n",
    "# load connectivity weights\n",
    "reader = FileReader(file_path= mypath +'/' + subject +'/weights.txt')\n",
    "w= reader.read_array(dtype=np.float64, skip_rows=0, use_cols=None, matlab_data_name=None)\n",
    "\n",
    "# load region centers\n",
    "reader = FileReader(file_path=mypath +'/' + subject +'/centres.txt')    \n",
    "rl= reader.read_array(dtype=np.str_, skip_rows=0, use_cols=(0,), matlab_data_name=None)\n",
    "c= reader.read_array(dtype=np.float64, skip_rows=0, use_cols=(1, 2, 3), matlab_data_name=None)\n",
    "\n",
    "# load connectivity tract lengths\n",
    "reader = FileReader(file_path=mypath +'/' + subject +'/tract_lengths.txt')\n",
    "tl= reader.read_array(dtype=np.float64, skip_rows=0, use_cols=None, matlab_data_name=None)"
   ]
  },
  {
   "cell_type": "code",
   "execution_count": 6,
   "metadata": {},
   "outputs": [],
   "source": [
    "# config model\n",
    "\n",
    "# csf (global coupling)\n",
    "csf = np.array([0.13])\n",
    "# conduction speed \n",
    "speed = 40\n",
    "\n",
    "# config the connectivity\n",
    "white_matter = connectivity.Connectivity(region_labels=rl, weights=w, tract_lengths=tl, centres=c)\n",
    "white_matter.configure()\n",
    "\n",
    "# setup the simulation\n",
    "oscilator = models.ReducedSetHindmarshRose(r=np.array([0.006]), a=np.array([1.0]), b=np.array([3.0]), c=np.array([1.0]), d=np.array([5.0]), \n",
    "                                            s=np.array([4.0]), xo=np.array([-1.6]), \n",
    "                                            K11=np.array([0.5]), K12=np.array([0.1]), K21=np.array([0.15]), \n",
    "                                            sigma=np.array([0.3]), mu=np.array([2.2]), variables_of_interest=[\"xi\",\"alpha\"])\n",
    "oscilator.configure()\n",
    "\n",
    "dt=0.01220703125\n",
    "\n",
    "# specify the coupling function\n",
    "white_matter_coupling = coupling.Linear(a=csf, b=np.array([0.0]))\n",
    "white_matter_coupling.configure()\n",
    "\n",
    "# set up the integration\n",
    "heunint = integrators.HeunStochastic(dt=dt, noise=noise.Additive(nsig=np.array([1.0])))\n",
    "\n",
    "# specify tvb monitors\n",
    "p=3.90625 # 256Hz = 3.90625 ms\n",
    "momo = monitors.SubSample(period=p) # collect data at every 3.90635 ms\n",
    "\n",
    "# choose to generate BOLD signal\n",
    "hrffunction=equations.MixtureOfGammas()\n",
    "pb=500 \n",
    "mama = monitors.Bold(period=pb, hrf_kernel=hrffunction)\n",
    "\n",
    "# put both monitors together\n",
    "what_to_watch = (momo, mama)\n",
    "# time in sec\n",
    "sim_length = 180000"
   ]
  },
  {
   "cell_type": "markdown",
   "metadata": {},
   "source": [
    "### Stimulus"
   ]
  },
  {
   "cell_type": "code",
   "execution_count": 10,
   "metadata": {},
   "outputs": [],
   "source": [
    "atlas = 'Desikan-Killiany'\n",
    "SimNIBSfile = '...efield.json'\n",
    "\n",
    "# for reading e-field in json file\n",
    "with open(SimNIBSfile, 'r') as f:\n",
    "    EF_data = json.load(f)\n",
    "\n",
    "# get region labels and index\n",
    "regions_li = white_matter.get_grouped_space_labels()\n",
    "\n",
    "# edit brain area name\n",
    "ef_idxRegions = EF_data.copy()\n",
    "del ef_idxRegions['lh.corpuscallosum']\n",
    "del ef_idxRegions['rh.corpuscallosum']\n",
    "\n",
    "ef_idxRegions = { 'lh_' + k[3:] if 'lh.' in k else 'rh_' + k[3:]: v for k, v in ef_idxRegions.items() }\n",
    "\n",
    "# match region to tvb index\n",
    "efield = {}\n",
    "for key, value in ef_idxRegions.items():\n",
    "    for hemi, regions in regions_li:\n",
    "        for idx, area in regions:\n",
    "            if area.lower() == key.lower():\n",
    "                efield[(idx, area)] = value"
   ]
  },
  {
   "cell_type": "code",
   "execution_count": 15,
   "metadata": {},
   "outputs": [],
   "source": [
    "# define the location of stimuli\n",
    "# use all EF result from all regions\n",
    "chosenNodes = [i for i, e in efield.keys()]\n",
    "# Make a matrix of stimuli weights\n",
    "stim_weights_raw = np.zeros(white_matter.number_of_regions)\n",
    "chosenNodes_weights = np.array(list(efield.values()))\n",
    "\n",
    "# normalized e-fields to [-1, 1]\n",
    "normalized_weights = 2*(chosenNodes_weights - chosenNodes_weights.min()) / (chosenNodes_weights.max() - chosenNodes_weights.min()) - 1\n",
    "stim_weights_raw[chosenNodes] = normalized_weights\n",
    "\n",
    "# Quasi-uniform assumption\n",
    "constant = 4\n",
    "stim_weights = stim_weights_raw * constant\n",
    "\n",
    "# so-tDCS \n",
    "stim_start = 60000\n",
    "stim_end = 120000\n",
    "params = {\"amp\": 0.5, \"frequency\": 0.00075, \"start\": stim_start, \"end\": stim_end}\n",
    "equation='where((var > start) & (var < end), amp + amp*sin(6.283185307179586*frequency*var), 0)'\n",
    "eqn_t = equations.TemporalApplicableEquation(equation=equation, parameters=params)\n",
    "\n",
    "# configure stimulus\n",
    "stimulus = patterns.StimuliRegion(\n",
    "    temporal = eqn_t,\n",
    "    connectivity = white_matter,\n",
    "    weight = stim_weights)\n",
    "stimulus.configure_space()\n",
    "stimulus.configure_time(np.arange(0, 180000.0, dt)) # dt = time step"
   ]
  },
  {
   "cell_type": "code",
   "execution_count": null,
   "metadata": {},
   "outputs": [],
   "source": [
    "# configure the simulation\n",
    "sim = simulator.Simulator(model=oscilator, connectivity=white_matter,\n",
    "                          coupling=white_matter_coupling, conduction_speed=speed,\n",
    "                          integrator=heunint, monitors=what_to_watch, simulation_length=sim_length,\n",
    "                          stimulus=stimulus)\n",
    "\n",
    "sim.configure()"
   ]
  },
  {
   "cell_type": "code",
   "execution_count": 19,
   "metadata": {},
   "outputs": [],
   "source": [
    "%%capture sim_runtime\n",
    "%%timeit -n 1 -r 1\n",
    "# perform the simulation\n",
    "subs_data = []\n",
    "subs_time = []\n",
    "bold_data = []\n",
    "bold_time = []\n",
    "\n",
    "for subs, bold in sim():\n",
    "    if not subs is None:\n",
    "        subs_time.append(subs[0])\n",
    "        subs_data.append(subs[1])\n",
    "    \n",
    "    if not bold is None:\n",
    "        bold_time.append(bold[0])\n",
    "        bold_data.append(bold[1])\n",
    "\n",
    "SUBS  = np.sum(np.array(subs_data),axis=3) \n",
    "TSUBS = np.array(subs_time)\n",
    "BOLD  = np.array(bold_data)\n",
    "TBOLD = np.array(bold_time)\n",
    "subsfile = save_path + '/' + subject + '.mat'\n",
    "scipy.io.savemat(subsfile, mdict={ 'subs_data': SUBS, 'subs_time': TSUBS ,'bold_data': BOLD, 'bold_time': TBOLD })"
   ]
  }
 ],
 "metadata": {
  "kernelspec": {
   "display_name": "Python 3.7.12 ('tvb')",
   "language": "python",
   "name": "python3"
  },
  "language_info": {
   "codemirror_mode": {
    "name": "ipython",
    "version": 3
   },
   "file_extension": ".py",
   "mimetype": "text/x-python",
   "name": "python",
   "nbconvert_exporter": "python",
   "pygments_lexer": "ipython3",
   "version": "3.7.12"
  },
  "vscode": {
   "interpreter": {
    "hash": "a88b5e70d6355e1d9f3af2606ca4ae647f23361aefba67aaa9ecac79beab3af0"
   }
  }
 },
 "nbformat": 4,
 "nbformat_minor": 2
}
